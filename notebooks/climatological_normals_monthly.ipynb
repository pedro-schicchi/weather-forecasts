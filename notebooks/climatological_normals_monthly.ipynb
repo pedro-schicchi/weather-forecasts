{
 "cells": [
  {
   "cell_type": "code",
   "execution_count": 1,
   "id": "c0ec44c9",
   "metadata": {},
   "outputs": [],
   "source": [
    "# native imports\n",
    "import os\n",
    "from time import perf_counter\n",
    "\n",
    "# third party imports\n",
    "import ee\n",
    "import geemap\n",
    "# import pandas as pd\n",
    "# from pandas.tseries.offsets import MonthEnd"
   ]
  },
  {
   "cell_type": "code",
   "execution_count": 2,
   "id": "6b432e29",
   "metadata": {},
   "outputs": [],
   "source": [
    "# # tigger the authentication flow\n",
    "# ee.Authenticate()"
   ]
  },
  {
   "cell_type": "code",
   "execution_count": 3,
   "id": "17ba2a8c",
   "metadata": {},
   "outputs": [],
   "source": [
    "# initialize the library\n",
    "ee.Initialize()"
   ]
  },
  {
   "cell_type": "markdown",
   "id": "e92c6ae7",
   "metadata": {},
   "source": [
    "#### Inputs"
   ]
  },
  {
   "cell_type": "code",
   "execution_count": 4,
   "id": "fe84fdfb",
   "metadata": {},
   "outputs": [],
   "source": [
    "years = (1991, 2020)"
   ]
  },
  {
   "cell_type": "code",
   "execution_count": 5,
   "id": "cd9918be",
   "metadata": {},
   "outputs": [],
   "source": [
    "# out_dir = os.path.abspath(f'../data/raw/era5_{years[0]}-{years[1]}_doy_{doy}.tif')"
   ]
  },
  {
   "cell_type": "code",
   "execution_count": 6,
   "id": "035d95ad",
   "metadata": {},
   "outputs": [],
   "source": [
    "# out_dir"
   ]
  },
  {
   "cell_type": "markdown",
   "id": "e583f8a5",
   "metadata": {},
   "source": [
    "#### Imports"
   ]
  },
  {
   "cell_type": "code",
   "execution_count": 7,
   "id": "77e47194",
   "metadata": {},
   "outputs": [],
   "source": [
    "roi = ee.Geometry.Polygon([[\n",
    "    [-179, 73],\n",
    "    [-179, -60],\n",
    "    [180, -60],\n",
    "    [180, 73]\n",
    "]], None, False);"
   ]
  },
  {
   "cell_type": "code",
   "execution_count": 8,
   "id": "182be9ac",
   "metadata": {},
   "outputs": [],
   "source": [
    "era5 = ee.ImageCollection(\"ECMWF/ERA5_LAND/MONTHLY_AGGR\") \\\n",
    "    .filter(ee.Filter.calendarRange(years[0], years[1], 'year')) \\\n",
    "    .select(['temperature_2m', 'total_precipitation_sum'])"
   ]
  },
  {
   "cell_type": "code",
   "execution_count": 9,
   "id": "78bac576",
   "metadata": {},
   "outputs": [
    {
     "name": "stdout",
     "output_type": "stream",
     "text": [
      "Generating URL ...\n",
      "Downloading data from https://earthengine.googleapis.com/v1alpha/projects/earthengine-legacy/thumbnails/6516dd4ea98dbc05d68da0e16d3eba6f-2374d1039b5b6817dd4f69d6ad70d3f4:getPixels\n",
      "Please wait ...\n",
      "Data downloaded to C:\\Users\\pschicchi\\HedgePoint Global Markets\\Hedgepoint - Market Intelligence - Documents\\RMI\\Workspace\\GoogleEarthEngine\\data\\raw\\era5_1991-2020_month_1_mean.tif\n",
      "Generating URL ...\n",
      "Downloading data from https://earthengine.googleapis.com/v1alpha/projects/earthengine-legacy/thumbnails/56429606906e04dd151524bab7d1ff0e-cc0079b0deec9efc9d23edf8113191fc:getPixels\n",
      "Please wait ...\n",
      "Data downloaded to C:\\Users\\pschicchi\\HedgePoint Global Markets\\Hedgepoint - Market Intelligence - Documents\\RMI\\Workspace\\GoogleEarthEngine\\data\\raw\\era5_1991-2020_month_1_std.tif\n",
      "Generating URL ...\n",
      "Downloading data from https://earthengine.googleapis.com/v1alpha/projects/earthengine-legacy/thumbnails/992eb5c14e7670b7b42d1309be4dfaa7-baf36fb8033a75a27afd697f5af2a1d7:getPixels\n",
      "Please wait ...\n",
      "Data downloaded to C:\\Users\\pschicchi\\HedgePoint Global Markets\\Hedgepoint - Market Intelligence - Documents\\RMI\\Workspace\\GoogleEarthEngine\\data\\raw\\era5_1991-2020_month_2_mean.tif\n",
      "Generating URL ...\n",
      "Downloading data from https://earthengine.googleapis.com/v1alpha/projects/earthengine-legacy/thumbnails/fae1b7ff10c765d52d7f02853b5c2ffb-ffe7bdd5a7836bec80cdd196aa222cf5:getPixels\n",
      "Please wait ...\n",
      "Data downloaded to C:\\Users\\pschicchi\\HedgePoint Global Markets\\Hedgepoint - Market Intelligence - Documents\\RMI\\Workspace\\GoogleEarthEngine\\data\\raw\\era5_1991-2020_month_2_std.tif\n",
      "Generating URL ...\n",
      "Downloading data from https://earthengine.googleapis.com/v1alpha/projects/earthengine-legacy/thumbnails/ac34814122ac6768735f43d05b3049ef-e0f070692840cb86bf012dbdba11d6f3:getPixels\n",
      "Please wait ...\n",
      "Data downloaded to C:\\Users\\pschicchi\\HedgePoint Global Markets\\Hedgepoint - Market Intelligence - Documents\\RMI\\Workspace\\GoogleEarthEngine\\data\\raw\\era5_1991-2020_month_3_mean.tif\n",
      "Generating URL ...\n",
      "Downloading data from https://earthengine.googleapis.com/v1alpha/projects/earthengine-legacy/thumbnails/1a3c1b9a3bdedda94568858f55282386-2c96771c2977d1ee1939f09862837570:getPixels\n",
      "Please wait ...\n",
      "Data downloaded to C:\\Users\\pschicchi\\HedgePoint Global Markets\\Hedgepoint - Market Intelligence - Documents\\RMI\\Workspace\\GoogleEarthEngine\\data\\raw\\era5_1991-2020_month_3_std.tif\n",
      "Generating URL ...\n",
      "Downloading data from https://earthengine.googleapis.com/v1alpha/projects/earthengine-legacy/thumbnails/b742d301860f22a84ebc6c4c0b497c57-4e4e4bfda03ea624f552a492235b3b18:getPixels\n",
      "Please wait ...\n",
      "Data downloaded to C:\\Users\\pschicchi\\HedgePoint Global Markets\\Hedgepoint - Market Intelligence - Documents\\RMI\\Workspace\\GoogleEarthEngine\\data\\raw\\era5_1991-2020_month_4_mean.tif\n",
      "Generating URL ...\n",
      "Downloading data from https://earthengine.googleapis.com/v1alpha/projects/earthengine-legacy/thumbnails/f1391a6ef182bc3d3e4f5fd551736a9e-b75c70d06dde39d4d51c81f1f0814f4b:getPixels\n",
      "Please wait ...\n",
      "Data downloaded to C:\\Users\\pschicchi\\HedgePoint Global Markets\\Hedgepoint - Market Intelligence - Documents\\RMI\\Workspace\\GoogleEarthEngine\\data\\raw\\era5_1991-2020_month_4_std.tif\n",
      "Generating URL ...\n",
      "Downloading data from https://earthengine.googleapis.com/v1alpha/projects/earthengine-legacy/thumbnails/db2ca436830a9f09d4535d0e65170237-1c4a5012706ad9a16fbea8829391893d:getPixels\n",
      "Please wait ...\n",
      "Data downloaded to C:\\Users\\pschicchi\\HedgePoint Global Markets\\Hedgepoint - Market Intelligence - Documents\\RMI\\Workspace\\GoogleEarthEngine\\data\\raw\\era5_1991-2020_month_5_mean.tif\n",
      "Generating URL ...\n",
      "Downloading data from https://earthengine.googleapis.com/v1alpha/projects/earthengine-legacy/thumbnails/8cf2efae8595747c5b96842d0c7b9cdb-2538a860ed0f190471a6fa8290528b6e:getPixels\n",
      "Please wait ...\n",
      "Data downloaded to C:\\Users\\pschicchi\\HedgePoint Global Markets\\Hedgepoint - Market Intelligence - Documents\\RMI\\Workspace\\GoogleEarthEngine\\data\\raw\\era5_1991-2020_month_5_std.tif\n",
      "Generating URL ...\n",
      "Downloading data from https://earthengine.googleapis.com/v1alpha/projects/earthengine-legacy/thumbnails/5f8ddb03abdd810cb902c2ce585fc3d8-d10bba5da6424fc18aa0089ffe7c68c3:getPixels\n",
      "Please wait ...\n",
      "Data downloaded to C:\\Users\\pschicchi\\HedgePoint Global Markets\\Hedgepoint - Market Intelligence - Documents\\RMI\\Workspace\\GoogleEarthEngine\\data\\raw\\era5_1991-2020_month_6_mean.tif\n",
      "Generating URL ...\n",
      "Downloading data from https://earthengine.googleapis.com/v1alpha/projects/earthengine-legacy/thumbnails/66a2704800c7bdf1506791e6efac78aa-d80c36b096365fdcbd834feb0a73dd65:getPixels\n",
      "Please wait ...\n",
      "Data downloaded to C:\\Users\\pschicchi\\HedgePoint Global Markets\\Hedgepoint - Market Intelligence - Documents\\RMI\\Workspace\\GoogleEarthEngine\\data\\raw\\era5_1991-2020_month_6_std.tif\n",
      "Generating URL ...\n",
      "Downloading data from https://earthengine.googleapis.com/v1alpha/projects/earthengine-legacy/thumbnails/80b6dce5088dbcae277932d246bcf511-d9fe9106dde9b328348b5b603af9ee3f:getPixels\n",
      "Please wait ...\n",
      "Data downloaded to C:\\Users\\pschicchi\\HedgePoint Global Markets\\Hedgepoint - Market Intelligence - Documents\\RMI\\Workspace\\GoogleEarthEngine\\data\\raw\\era5_1991-2020_month_7_mean.tif\n",
      "Generating URL ...\n",
      "Downloading data from https://earthengine.googleapis.com/v1alpha/projects/earthengine-legacy/thumbnails/c7ad8f6a3c0949b1e451dcbdc2dc813b-4a8e9e002c14bed2d348538f3281a5fa:getPixels\n",
      "Please wait ...\n",
      "Data downloaded to C:\\Users\\pschicchi\\HedgePoint Global Markets\\Hedgepoint - Market Intelligence - Documents\\RMI\\Workspace\\GoogleEarthEngine\\data\\raw\\era5_1991-2020_month_7_std.tif\n",
      "Generating URL ...\n",
      "Downloading data from https://earthengine.googleapis.com/v1alpha/projects/earthengine-legacy/thumbnails/6cd4017aa437b1f04f6627b25f5cf3e1-caaca4921c9f68d0588c74f3604474ff:getPixels\n",
      "Please wait ...\n",
      "Data downloaded to C:\\Users\\pschicchi\\HedgePoint Global Markets\\Hedgepoint - Market Intelligence - Documents\\RMI\\Workspace\\GoogleEarthEngine\\data\\raw\\era5_1991-2020_month_8_mean.tif\n",
      "Generating URL ...\n",
      "Downloading data from https://earthengine.googleapis.com/v1alpha/projects/earthengine-legacy/thumbnails/c73decaf3e75935503a22925b0c8c8fe-004a241f4213a316b36f62bd24d305b1:getPixels\n",
      "Please wait ...\n",
      "Data downloaded to C:\\Users\\pschicchi\\HedgePoint Global Markets\\Hedgepoint - Market Intelligence - Documents\\RMI\\Workspace\\GoogleEarthEngine\\data\\raw\\era5_1991-2020_month_8_std.tif\n",
      "Generating URL ...\n",
      "Downloading data from https://earthengine.googleapis.com/v1alpha/projects/earthengine-legacy/thumbnails/25433495e0aeab2862caf96aadc75cab-50fb2cccb5c7dd15f555d5ffa1a3c2ea:getPixels\n",
      "Please wait ...\n",
      "Data downloaded to C:\\Users\\pschicchi\\HedgePoint Global Markets\\Hedgepoint - Market Intelligence - Documents\\RMI\\Workspace\\GoogleEarthEngine\\data\\raw\\era5_1991-2020_month_9_mean.tif\n",
      "Generating URL ...\n",
      "Downloading data from https://earthengine.googleapis.com/v1alpha/projects/earthengine-legacy/thumbnails/7185aa4c3874fbb9b3514043cb97e318-7bcdd2a7eee9f88c7f00884e7fcf125a:getPixels\n",
      "Please wait ...\n",
      "Data downloaded to C:\\Users\\pschicchi\\HedgePoint Global Markets\\Hedgepoint - Market Intelligence - Documents\\RMI\\Workspace\\GoogleEarthEngine\\data\\raw\\era5_1991-2020_month_9_std.tif\n",
      "Generating URL ...\n",
      "Downloading data from https://earthengine.googleapis.com/v1alpha/projects/earthengine-legacy/thumbnails/3f3f61af37df42245f081542f4764132-8b01f6bb7c71048bc3306b3fd2e1ba52:getPixels\n",
      "Please wait ...\n",
      "Data downloaded to C:\\Users\\pschicchi\\HedgePoint Global Markets\\Hedgepoint - Market Intelligence - Documents\\RMI\\Workspace\\GoogleEarthEngine\\data\\raw\\era5_1991-2020_month_10_mean.tif\n",
      "Generating URL ...\n",
      "Downloading data from https://earthengine.googleapis.com/v1alpha/projects/earthengine-legacy/thumbnails/f34f91a616b34b07e7dd3be27e0e988b-1ee954025e3cd749b915d963f0b8d79e:getPixels\n",
      "Please wait ...\n",
      "Data downloaded to C:\\Users\\pschicchi\\HedgePoint Global Markets\\Hedgepoint - Market Intelligence - Documents\\RMI\\Workspace\\GoogleEarthEngine\\data\\raw\\era5_1991-2020_month_10_std.tif\n",
      "Generating URL ...\n",
      "Downloading data from https://earthengine.googleapis.com/v1alpha/projects/earthengine-legacy/thumbnails/4f57eb2d88d5b4fa8c0b9e78ecd5fa33-f1bfe36f9e1fe73ee271130b034897e6:getPixels\n",
      "Please wait ...\n",
      "Data downloaded to C:\\Users\\pschicchi\\HedgePoint Global Markets\\Hedgepoint - Market Intelligence - Documents\\RMI\\Workspace\\GoogleEarthEngine\\data\\raw\\era5_1991-2020_month_11_mean.tif\n",
      "Generating URL ...\n"
     ]
    },
    {
     "name": "stdout",
     "output_type": "stream",
     "text": [
      "Downloading data from https://earthengine.googleapis.com/v1alpha/projects/earthengine-legacy/thumbnails/adf8fc8db047d84dab883cb727b4319e-be26a892124833f3bf03d946cba97f4e:getPixels\n",
      "Please wait ...\n",
      "Data downloaded to C:\\Users\\pschicchi\\HedgePoint Global Markets\\Hedgepoint - Market Intelligence - Documents\\RMI\\Workspace\\GoogleEarthEngine\\data\\raw\\era5_1991-2020_month_11_std.tif\n",
      "Generating URL ...\n",
      "Downloading data from https://earthengine.googleapis.com/v1alpha/projects/earthengine-legacy/thumbnails/f6455334d10b37ef8487aee67c3e8913-b77a32f6f412a10cf9f5a5d2b69ab30f:getPixels\n",
      "Please wait ...\n",
      "Data downloaded to C:\\Users\\pschicchi\\HedgePoint Global Markets\\Hedgepoint - Market Intelligence - Documents\\RMI\\Workspace\\GoogleEarthEngine\\data\\raw\\era5_1991-2020_month_12_mean.tif\n",
      "Generating URL ...\n",
      "Downloading data from https://earthengine.googleapis.com/v1alpha/projects/earthengine-legacy/thumbnails/283d2988546908631889d77437178ace-5318328dc286516606a4e8ded2d803c8:getPixels\n",
      "Please wait ...\n",
      "Data downloaded to C:\\Users\\pschicchi\\HedgePoint Global Markets\\Hedgepoint - Market Intelligence - Documents\\RMI\\Workspace\\GoogleEarthEngine\\data\\raw\\era5_1991-2020_month_12_std.tif\n"
     ]
    }
   ],
   "source": [
    "# loop over months year and extract means\n",
    "for month in range(1,13):\n",
    "    # filter that day of year\n",
    "    era5_filtered = era5.filter(ee.Filter.calendarRange(month, month, 'month'))\n",
    "    \n",
    "    # export mean\n",
    "    geemap.ee_export_image(\n",
    "        era5_filtered.mean(),\n",
    "        filename=os.path.abspath(f'../data/raw/era5_{years[0]}-{years[1]}_month_{month}_mean.tif'),\n",
    "        region=roi,\n",
    "        file_per_band=False\n",
    "    )\n",
    "    \n",
    "    # export std\n",
    "    geemap.ee_export_image(\n",
    "        era5_filtered.reduce(ee.Reducer.stdDev()),\n",
    "        filename=os.path.abspath(f'../data/raw/era5_{years[0]}-{years[1]}_month_{month}_std.tif'),\n",
    "        region=roi,\n",
    "        file_per_band=False\n",
    "    )"
   ]
  },
  {
   "cell_type": "code",
   "execution_count": 10,
   "id": "6e41affd",
   "metadata": {},
   "outputs": [],
   "source": [
    "# collection = ee.ImageCollection.fromImages(collection)"
   ]
  },
  {
   "cell_type": "code",
   "execution_count": 11,
   "id": "1bd29e26",
   "metadata": {},
   "outputs": [],
   "source": [
    "# out_dir = os.path.join(os.path.expanduser('~'), 'Downloads')\n",
    "# filename = os.path.join(out_dir, f'era5_normal_doy_{doy}.tif')"
   ]
  },
  {
   "cell_type": "code",
   "execution_count": 12,
   "id": "5a5cfd4d",
   "metadata": {},
   "outputs": [],
   "source": [
    "# start = perf_counter()\n",
    "# geemap.ee_export_image(\n",
    "#     img, filename=filename, region=roi\n",
    "# )\n",
    "# print(f'took {(perf_counter()-start):.5f}')"
   ]
  },
  {
   "cell_type": "code",
   "execution_count": 13,
   "id": "353dcb27",
   "metadata": {},
   "outputs": [],
   "source": [
    "# start = perf_counter()\n",
    "# geemap.ee_export_image_collection(collection, out_dir=out_dir, region=roi)\n",
    "# print(f'took {(perf_counter()-start):.5f}')"
   ]
  },
  {
   "cell_type": "code",
   "execution_count": null,
   "id": "bc85c2b4",
   "metadata": {},
   "outputs": [],
   "source": []
  },
  {
   "cell_type": "code",
   "execution_count": null,
   "id": "b458b253",
   "metadata": {},
   "outputs": [],
   "source": []
  },
  {
   "cell_type": "code",
   "execution_count": null,
   "id": "7b8da9a0",
   "metadata": {},
   "outputs": [],
   "source": []
  },
  {
   "cell_type": "code",
   "execution_count": null,
   "id": "258ce9e7",
   "metadata": {},
   "outputs": [],
   "source": []
  },
  {
   "cell_type": "code",
   "execution_count": null,
   "id": "af0b30e9",
   "metadata": {},
   "outputs": [],
   "source": []
  },
  {
   "cell_type": "code",
   "execution_count": null,
   "id": "05aef364",
   "metadata": {},
   "outputs": [],
   "source": []
  }
 ],
 "metadata": {
  "kernelspec": {
   "display_name": "Python 3 (ipykernel)",
   "language": "python",
   "name": "python3"
  },
  "language_info": {
   "codemirror_mode": {
    "name": "ipython",
    "version": 3
   },
   "file_extension": ".py",
   "mimetype": "text/x-python",
   "name": "python",
   "nbconvert_exporter": "python",
   "pygments_lexer": "ipython3",
   "version": "3.10.6"
  }
 },
 "nbformat": 4,
 "nbformat_minor": 5
}
